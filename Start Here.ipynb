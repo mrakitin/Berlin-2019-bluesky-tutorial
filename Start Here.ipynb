{
 "cells": [
  {
   "cell_type": "markdown",
   "metadata": {},
   "source": [
    "# Bluesky Software Tutorials\n",
    "\n",
    "## Where to start\n",
    "\n",
    "For an introduction aimed at total beginners, start with [Hello Python and Jupyter](./tutorials/00%20Hello%20Python%20and%20Jupyter.ipynb). To dive into data acquisition basics, see [Hello Bluesky](./tutorials/01%20Hello%20Bluesky.ipynb).\n",
    "\n",
    "From there, explore [the titles available](./tutorials/). If any prior knowledge is assumed, recommended prerequisites will be linked at the top.\n",
    "\n",
    "## Links to Documentation\n",
    "\n",
    "* [NSLS-II Software Documentation Landing Page](https://nsls-ii.github.io)\n",
    "* [Bluesky Documentation](https://nsls-ii.github.io/bluesky)\n",
    "* [Ophyd Documentation](https://nsls-ii.github.io/ophyd)\n",
    "* [Databroker Documentation](https://nsls-ii.github.io/databroker)"
   ]
  }
 ],
 "metadata": {
  "kernelspec": {
   "display_name": "Python 3",
   "language": "python",
   "name": "python3"
  },
  "language_info": {
   "codemirror_mode": {
    "name": "ipython",
    "version": 3
   },
   "file_extension": ".py",
   "mimetype": "text/x-python",
   "name": "python",
   "nbconvert_exporter": "python",
   "pygments_lexer": "ipython3",
   "version": "3.6.6"
  }
 },
 "nbformat": 4,
 "nbformat_minor": 2
}
